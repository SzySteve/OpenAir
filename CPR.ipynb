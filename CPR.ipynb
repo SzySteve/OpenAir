{
 "cells": [
  {
   "cell_type": "code",
   "execution_count": 677,
   "metadata": {},
   "outputs": [],
   "source": [
    "import base64\n",
    "import json\n",
    "import requests\n",
    "import numpy as np\n",
    "import time, sys\n",
    "\n",
    "from datetime import date\n",
    "from IPython.display import clear_output\n",
    "from matplotlib import pyplot\n",
    "from matplotlib.dates import WEEKLY, DateFormatter\n",
    "\n",
    "import matplotlib.dates as mdates"
   ]
  },
  {
   "cell_type": "code",
   "execution_count": 505,
   "metadata": {},
   "outputs": [],
   "source": [
    "with open('config.json', 'r') as config:\n",
    "    data = json.loads(config.read())\n",
    "    SPOTIFY_CLIENT_ID = data['spotify_client_id']\n",
    "    SPOTIFY_CLIENT_SECRET = data['spotify_client_secret']\n",
    "\n",
    "SPOTIFY_AUTH_URL = \"https://accounts.spotify.com/api/token\"\n",
    "\n",
    "def get_api_token():\n",
    "    auth_string = f'{SPOTIFY_CLIENT_ID}:{SPOTIFY_CLIENT_SECRET}'.encode('utf-8')\n",
    "    auth_encoded = base64.b64encode(auth_string).decode('utf-8')\n",
    "    response = requests.post(SPOTIFY_AUTH_URL, data={\n",
    "      'grant_type': 'client_credentials'  \n",
    "    }, headers = {\n",
    "        'Authorization': 'Basic {}'.format(auth_encoded)\n",
    "    })\n",
    "    return response.json()['access_token']"
   ]
  },
  {
   "cell_type": "code",
   "execution_count": 343,
   "metadata": {},
   "outputs": [],
   "source": [
    "def update_progress(progress):\n",
    "    bar_length = 20\n",
    "    if isinstance(progress, int):\n",
    "        progress = float(progress)\n",
    "    if not isinstance(progress, float):\n",
    "        progress = 0\n",
    "    if progress < 0:\n",
    "        progress = 0\n",
    "    if progress >= 1:\n",
    "        progress = 1\n",
    "\n",
    "    block = int(round(bar_length * progress))\n",
    "\n",
    "    clear_output(wait = True)\n",
    "    text = \"Progress: [{0}] {1:.1f}%\".format( \"#\" * block + \"-\" * (bar_length - block), progress * 100)\n",
    "    print(text)"
   ]
  },
  {
   "cell_type": "code",
   "execution_count": 633,
   "metadata": {},
   "outputs": [],
   "source": [
    "base_url = \"https://playlist.cprnetwork.org/api/playlistCO/selectDate:{}\"\n",
    "# Dates are sent to the API in the following format yyyy-mm-dd (%Y-%m-%d) base64 encoded\n",
    "june_dates = [date(2019, 6, i) for i in range(1, 31)]\n",
    "july_dates = [date(2019, 7, i) for i in range(1, 32)]\n",
    "\n",
    "\n",
    "def fetch_tracks(dates):\n",
    "    tracks = []\n",
    "    total = len(dates)\n",
    "    for num, d in enumerate(dates):\n",
    "        formatted = d.strftime('%Y-%m-%d').encode('utf-8')\n",
    "        encoded = base64.b64encode(formatted).decode('utf-8')\n",
    "        url = base_url.format(str(encoded))\n",
    "        response = requests.get(url)\n",
    "        tracks.append(response.json())\n",
    "        update_progress(num / (total -1))\n",
    "    return tracks\n"
   ]
  },
  {
   "cell_type": "code",
   "execution_count": 636,
   "metadata": {},
   "outputs": [
    {
     "name": "stdout",
     "output_type": "stream",
     "text": [
      "Progress: [####################] 100.0%\n"
     ]
    }
   ],
   "source": [
    "june_raw_tracks = fetch_tracks(june_dates)\n",
    "july_raw_tracks = fetch_tracks(july_dates)"
   ]
  },
  {
   "cell_type": "code",
   "execution_count": 387,
   "metadata": {},
   "outputs": [],
   "source": [
    "def save_json(name, tracklist):\n",
    "    # dont want to wait for the api again just save it\n",
    "    with open(name, 'w') as f:\n",
    "        f.write(json.dumps(tracklist))\n",
    "\n",
    "def load_json(name):\n",
    "    with open(name, 'r') as f:\n",
    "        data = f.read()\n",
    "        return json.loads(data)"
   ]
  },
  {
   "cell_type": "code",
   "execution_count": 396,
   "metadata": {},
   "outputs": [],
   "source": [
    "spotify_url = \"https://api.spotify.com/v1/search?\"\n",
    "def spotify_search(track, token):\n",
    "    # q=album%3AHeartworms%20artist%3AThe%20Shins%20track%3A%20Name%20For%20You&type=track\n",
    "    search_string = f\"type=track&q=artist:{track['artist']} track:{track['title']}\"\n",
    "    headers = {\n",
    "        \"Content-Type\": \"application/json\",\n",
    "        \"Authorization\": \"Bearer {}\".format(token)\n",
    "    }\n",
    "    response = requests.get(spotify_url + search_string, headers=headers)\n",
    "    return response.json()\n"
   ]
  },
  {
   "cell_type": "code",
   "execution_count": 709,
   "metadata": {},
   "outputs": [],
   "source": [
    "def append_spotify_popularity(days): \n",
    "    errors = []\n",
    "    token = get_api_token()\n",
    "    total = sum(len(day) for day in days)\n",
    "    count = 0\n",
    "    for tracks in days:\n",
    "        for track in tracks:\n",
    "            count += 1\n",
    "            result = spotify_search(track, token)\n",
    "            try:\n",
    "                track['popularity'] = result['tracks']['items'][0]['popularity']\n",
    "            except (IndexError, KeyError) as e:\n",
    "                errors.append({'track': track, 'error': e})\n",
    "            update_progress(count / (total - 1))\n",
    "    return days, errors"
   ]
  },
  {
   "cell_type": "code",
   "execution_count": 645,
   "metadata": {},
   "outputs": [],
   "source": [
    "june_tracks, errors = append_spotify_popularity(june_tracks)"
   ]
  },
  {
   "cell_type": "code",
   "execution_count": 642,
   "metadata": {},
   "outputs": [],
   "source": [
    "july_tracks, errors = append_spotify_popularity(july_tracks)"
   ]
  },
  {
   "cell_type": "code",
   "execution_count": 625,
   "metadata": {},
   "outputs": [],
   "source": [
    "def get_daily_averages(month):\n",
    "    avgs = []\n",
    "    for day in month:\n",
    "        popularity_list = [track['popularity'] for track in day if track.get('popularity', None) is not None]\n",
    "        avgs.append(sum(popularity_list) / len(popularity_list))\n",
    "    return avgs\n",
    "july_avgs = get_daily_averages(july_tracks)\n",
    "june_avgs = get_daily_averages(june_tracks)"
   ]
  },
  {
   "cell_type": "code",
   "execution_count": 715,
   "metadata": {},
   "outputs": [],
   "source": [
    "def draw_histogram(june, july):\n",
    "    p1 = []\n",
    "    p2 = []\n",
    "    for day in june:\n",
    "        for track in day:\n",
    "            p = track.get('popularity', False)\n",
    "            if p:\n",
    "                p1.append(p)\n",
    "    for day in july:\n",
    "        for track in day:\n",
    "            p = track.get('popularity', False)\n",
    "            if p:\n",
    "                p2.append(p)\n",
    "    pyplot.hist([p1,p2], bins=20, label=[\"June\", \"July\"])\n",
    "    pyplot.ylabel('Track Count')\n",
    "    pyplot.xlabel('Popularity')\n",
    "    pyplot.legend(prop={'size': 10})\n",
    "    pyplot.show()"
   ]
  },
  {
   "cell_type": "code",
   "execution_count": 716,
   "metadata": {},
   "outputs": [
    {
     "data": {
      "image/png": "[encoded data removed]",
      "text/plain": [
       "<Figure size 432x288 with 1 Axes>"
      ]
     },
     "metadata": {
      "needs_background": "light"
     },
     "output_type": "display_data"
    }
   ],
   "source": [
    "draw_histogram(june_tracks, july_tracks)"
   ]
  },
  {
   "cell_type": "code",
   "execution_count": 647,
   "metadata": {},
   "outputs": [],
   "source": [
    "save_json('june.json', june_tracks)\n",
    "save_json('july.json', july_tracks)"
   ]
  },
  {
   "cell_type": "code",
   "execution_count": 643,
   "metadata": {},
   "outputs": [],
   "source": [
    "def get_medians(days):\n",
    "    medians = []\n",
    "    for tracks in days:\n",
    "        arr = []\n",
    "        for t in tracks:\n",
    "            if t.get('popularity', None):\n",
    "                arr.append(t['popularity'])\n",
    "        medians.append(np.median(arr))\n",
    "    return medians\n",
    "        \n",
    "june_medians = get_medians(june_tracks)\n",
    "july_medians = get_medians(july_tracks)\n",
    "        "
   ]
  },
  {
   "cell_type": "code",
   "execution_count": 708,
   "metadata": {},
   "outputs": [
    {
     "data": {
      "image/png": "[encoded data removed]",
      "text/plain": [
       "<Figure size 720x360 with 1 Axes>"
      ]
     },
     "metadata": {
      "needs_background": "light"
     },
     "output_type": "display_data"
    }
   ],
   "source": [
    "fig, ax = pyplot.subplots()\n",
    "fig.set_figwidth(10)\n",
    "fig.set_figheight(5)\n",
    "formatter = DateFormatter('%m/%d/%y')\n",
    "ax.xaxis.set_major_formatter(formatter)\n",
    "ax.xaxis.set_tick_params(rotation=30, labelsize=10)\n",
    "pyplot.plot_date(june_dates + july_dates, june_avgs + july_avgs, xdate=True, fmt=\"-\", label=\"Mean Popularity/Day\")\n",
    "pyplot.plot_date(june_dates + july_dates, june_medians + july_medians, xdate=True, fmt=\"--\", label=\"Median Popularity/Day\")\n",
    "pyplot.legend(prop={'size': 10})\n",
    "pyplot.show()"
   ]
  },
  {
   "cell_type": "code",
   "execution_count": null,
   "metadata": {},
   "outputs": [],
   "source": []
  },
  {
   "cell_type": "code",
   "execution_count": null,
   "metadata": {},
   "outputs": [],
   "source": []
  },
  {
   "cell_type": "code",
   "execution_count": null,
   "metadata": {},
   "outputs": [],
   "source": []
  },
  {
   "cell_type": "code",
   "execution_count": null,
   "metadata": {},
   "outputs": [],
   "source": []
  },
  {
   "cell_type": "code",
   "execution_count": null,
   "metadata": {},
   "outputs": [],
   "source": []
  },
  {
   "cell_type": "code",
   "execution_count": null,
   "metadata": {},
   "outputs": [],
   "source": []
  },
  {
   "cell_type": "code",
   "execution_count": null,
   "metadata": {},
   "outputs": [],
   "source": []
  }
 ],
 "metadata": {
  "kernelspec": {
   "display_name": "Python 3",
   "language": "python",
   "name": "python3"
  },
  "language_info": {
   "codemirror_mode": {
    "name": "ipython",
    "version": 3
   },
   "file_extension": ".py",
   "mimetype": "text/x-python",
   "name": "python",
   "nbconvert_exporter": "python",
   "pygments_lexer": "ipython3",
   "version": "3.6.6"
  }
 },
 "nbformat": 4,
 "nbformat_minor": 2
}
