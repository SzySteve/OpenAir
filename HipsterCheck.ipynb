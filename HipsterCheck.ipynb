{
 "cells": [
  {
   "cell_type": "code",
   "execution_count": 85,
   "metadata": {},
   "outputs": [],
   "source": [
    "from datetime import date\n",
    "\n",
    "import base64\n",
    "import requests\n",
    "import json"
   ]
  },
  {
   "cell_type": "code",
   "execution_count": 89,
   "metadata": {},
   "outputs": [],
   "source": [
    "base_url = \"https://playlist.cprnetwork.org/api/playlistCO/selectDate:{}\"\n",
    "# Dates are sent to the API in the following format yyyy-mm-dd (%Y-%m-%d) base64 encoded\n",
    "june_dates = [date(2019, 6, i) for i in range(1, 31)]\n",
    "july_dates = [date(2019, 7, i) for i in range(1, 26)]\n",
    "\n",
    "\n",
    "def fetch_tracks(dates):\n",
    "    tracks = []\n",
    "    for d in dates:\n",
    "        formatted = d.strftime('%Y-%m-%d').encode('utf-8')\n",
    "        print(f'fetching {formatted}')\n",
    "        encoded = base64.b64encode(formatted).decode('utf-8')\n",
    "        url = base_url.format(str(encoded))\n",
    "        response = requests.get(url)\n",
    "        tracks.extend(response.json())\n",
    "    return tracks\n",
    "    \n",
    "    \n"
   ]
  },
  {
   "cell_type": "code",
   "execution_count": 91,
   "metadata": {},
   "outputs": [
    {
     "name": "stdout",
     "output_type": "stream",
     "text": [
      "fetching b'2019-07-01'\n",
      "fetching b'2019-07-02'\n",
      "fetching b'2019-07-03'\n",
      "fetching b'2019-07-04'\n",
      "fetching b'2019-07-05'\n",
      "fetching b'2019-07-06'\n",
      "fetching b'2019-07-07'\n",
      "fetching b'2019-07-08'\n",
      "fetching b'2019-07-09'\n",
      "fetching b'2019-07-10'\n",
      "fetching b'2019-07-11'\n",
      "fetching b'2019-07-12'\n",
      "fetching b'2019-07-13'\n",
      "fetching b'2019-07-14'\n",
      "fetching b'2019-07-15'\n",
      "fetching b'2019-07-16'\n",
      "fetching b'2019-07-17'\n",
      "fetching b'2019-07-18'\n",
      "fetching b'2019-07-19'\n",
      "fetching b'2019-07-20'\n",
      "fetching b'2019-07-21'\n",
      "fetching b'2019-07-22'\n",
      "fetching b'2019-07-23'\n",
      "fetching b'2019-07-24'\n",
      "fetching b'2019-07-25'\n"
     ]
    }
   ],
   "source": [
    "july_tracks = fetch_tracks(july_dates)"
   ]
  },
  {
   "cell_type": "code",
   "execution_count": 77,
   "metadata": {},
   "outputs": [],
   "source": [
    "def save_json(name, tracklist):\n",
    "    # dont want to wait for the api again just save it\n",
    "    with open(name, 'w') as f:\n",
    "        f.write(json.dumps(tracklist))\n"
   ]
  },
  {
   "cell_type": "code",
   "execution_count": 92,
   "metadata": {},
   "outputs": [
    {
     "name": "stdout",
     "output_type": "stream",
     "text": [
      "june: 11388\n",
      "july: 9639\n"
     ]
    }
   ],
   "source": [
    "print(f'june: {len(june_tracks)}')\n",
    "print(f'july: {len(july_tracks)}')\n",
    "save_json('june.json', june_tracks)\n",
    "save_json('july.json', july_tracks)"
   ]
  },
  {
   "cell_type": "code",
   "execution_count": 94,
   "metadata": {},
   "outputs": [],
   "source": [
    "spotify_url = \"https://api.spotify.com/v1/search?q=album%3AHeartworms%20artist%3AThe%20Shins%20track%3A%20Name%20For%20You&type=track\"\n",
    "def spotify_search(track):\n",
    "    # q=album%3AHeartworms%20artist%3AThe%20Shins%20track%3A%20Name%20For%20You&type=track\n",
    "    headers = {\n",
    "        \"Content-Type\": \"application/json\",\n",
    "        \"Authorization\": \"Bearer {}\"\n",
    "    }\n",
    "    response = requests.get(spotify_url, headers=headers)\n",
    "    return response.json()\n"
   ]
  },
  {
   "cell_type": "code",
   "execution_count": 95,
   "metadata": {},
   "outputs": [
    {
     "data": {
      "text/plain": [
       "{'error': {'status': 401, 'message': 'The access token expired'}}"
      ]
     },
     "execution_count": 95,
     "metadata": {},
     "output_type": "execute_result"
    }
   ],
   "source": [
    "spotify_search(None)"
   ]
  },
  {
   "cell_type": "code",
   "execution_count": null,
   "metadata": {},
   "outputs": [],
   "source": []
  }
 ],
 "metadata": {
  "kernelspec": {
   "display_name": "Python 3",
   "language": "python",
   "name": "python3"
  },
  "language_info": {
   "codemirror_mode": {
    "name": "ipython",
    "version": 3
   },
   "file_extension": ".py",
   "mimetype": "text/x-python",
   "name": "python",
   "nbconvert_exporter": "python",
   "pygments_lexer": "ipython3",
   "version": "3.6.6"
  }
 },
 "nbformat": 4,
 "nbformat_minor": 2
}
