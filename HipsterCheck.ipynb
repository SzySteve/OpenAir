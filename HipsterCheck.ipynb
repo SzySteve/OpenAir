{
 "cells": [
  {
   "cell_type": "code",
   "execution_count": 214,
   "metadata": {},
   "outputs": [],
   "source": [
    "from datetime import date\n",
    "\n",
    "import base64\n",
    "import requests\n",
    "import json\n",
    "from matplotlib.pyplot import hist, plot"
   ]
  },
  {
   "cell_type": "code",
   "execution_count": 89,
   "metadata": {},
   "outputs": [],
   "source": [
    "base_url = \"https://playlist.cprnetwork.org/api/playlistCO/selectDate:{}\"\n",
    "# Dates are sent to the API in the following format yyyy-mm-dd (%Y-%m-%d) base64 encoded\n",
    "june_dates = [date(2019, 6, i) for i in range(1, 31)]\n",
    "july_dates = [date(2019, 7, i) for i in range(1, 26)]\n",
    "\n",
    "\n",
    "def fetch_tracks(dates):\n",
    "    tracks = []\n",
    "    for d in dates:\n",
    "        formatted = d.strftime('%Y-%m-%d').encode('utf-8')\n",
    "        print(f'fetching {formatted}')\n",
    "        encoded = base64.b64encode(formatted).decode('utf-8')\n",
    "        url = base_url.format(str(encoded))\n",
    "        response = requests.get(url)\n",
    "        tracks.extend(response.json())\n",
    "    return tracks\n",
    "    \n",
    "    \n"
   ]
  },
  {
   "cell_type": "code",
   "execution_count": 91,
   "metadata": {},
   "outputs": [
    {
     "name": "stdout",
     "output_type": "stream",
     "text": [
      "fetching b'2019-07-01'\n",
      "fetching b'2019-07-02'\n",
      "fetching b'2019-07-03'\n",
      "fetching b'2019-07-04'\n",
      "fetching b'2019-07-05'\n",
      "fetching b'2019-07-06'\n",
      "fetching b'2019-07-07'\n",
      "fetching b'2019-07-08'\n",
      "fetching b'2019-07-09'\n",
      "fetching b'2019-07-10'\n",
      "fetching b'2019-07-11'\n",
      "fetching b'2019-07-12'\n",
      "fetching b'2019-07-13'\n",
      "fetching b'2019-07-14'\n",
      "fetching b'2019-07-15'\n",
      "fetching b'2019-07-16'\n",
      "fetching b'2019-07-17'\n",
      "fetching b'2019-07-18'\n",
      "fetching b'2019-07-19'\n",
      "fetching b'2019-07-20'\n",
      "fetching b'2019-07-21'\n",
      "fetching b'2019-07-22'\n",
      "fetching b'2019-07-23'\n",
      "fetching b'2019-07-24'\n",
      "fetching b'2019-07-25'\n"
     ]
    }
   ],
   "source": [
    "july_tracks = fetch_tracks(july_dates)"
   ]
  },
  {
   "cell_type": "code",
   "execution_count": 77,
   "metadata": {},
   "outputs": [],
   "source": [
    "def save_json(name, tracklist):\n",
    "    # dont want to wait for the api again just save it\n",
    "    with open(name, 'w') as f:\n",
    "        f.write(json.dumps(tracklist))\n"
   ]
  },
  {
   "cell_type": "code",
   "execution_count": 92,
   "metadata": {},
   "outputs": [
    {
     "name": "stdout",
     "output_type": "stream",
     "text": [
      "june: 11388\n",
      "july: 9639\n"
     ]
    }
   ],
   "source": [
    "print(f'june: {len(june_tracks)}')\n",
    "print(f'july: {len(july_tracks)}')\n",
    "save_json('june.json', june_tracks)\n",
    "save_json('july.json', july_tracks)"
   ]
  },
  {
   "cell_type": "code",
   "execution_count": 200,
   "metadata": {},
   "outputs": [],
   "source": [
    "spotify_url = \"https://api.spotify.com/v1/search?\"\n",
    "def spotify_search(track):\n",
    "    # q=album%3AHeartworms%20artist%3AThe%20Shins%20track%3A%20Name%20For%20You&type=track\n",
    "    search_string = f\"type=track&q=artist:{track['artist']} track:{track['title']}\"\n",
    "    headers = {\n",
    "        \"Content-Type\": \"application/json\",\n",
    "        \"Authorization\": \"Bearer\"\n",
    "    }\n",
    "    response = requests.get(spotify_url + search_string, headers=headers)\n",
    "    return response.json()['tracks']\n",
    "#     print(search_string.replace(' ', '%20'))\n"
   ]
  },
  {
   "cell_type": "code",
   "execution_count": 188,
   "metadata": {},
   "outputs": [],
   "source": [
    "errors = []\n",
    "for track in june_tracks[:100]:\n",
    "    result = spotify_search(track)\n",
    "    try:\n",
    "        track['popularity'] = result['items'][0]['popularity']\n",
    "    except (IndexError, KeyError) as e:\n",
    "        errors.append({'track': track, 'error': e})"
   ]
  },
  {
   "cell_type": "code",
   "execution_count": 201,
   "metadata": {},
   "outputs": [
    {
     "data": {
      "text/plain": [
       "0.08"
      ]
     },
     "execution_count": 201,
     "metadata": {},
     "output_type": "execute_result"
    }
   ],
   "source": [
    "len(errors)\n",
    "\n",
    "len(errors)  / 100\n"
   ]
  },
  {
   "cell_type": "code",
   "execution_count": 204,
   "metadata": {},
   "outputs": [],
   "source": [
    "popularity = []\n",
    "for t in june_tracks:\n",
    "    p = t.get('popularity', False)\n",
    "    if p:\n",
    "        popularity.append(p)"
   ]
  },
  {
   "cell_type": "code",
   "execution_count": 224,
   "metadata": {},
   "outputs": [
    {
     "data": {
      "text/plain": [
       "(array([116., 114., 104.,  91.,  81.,  95.,  91., 165., 117., 122., 200.,\n",
       "        249., 287., 323., 291., 396., 363., 446., 352., 201., 226., 393.,\n",
       "        360., 328., 281., 358., 282., 261., 301.,  97., 148., 254., 125.,\n",
       "        153., 113.,  61.,  70.,  17.,  11.,   1.,  17.,   7.,  13.,   1.,\n",
       "          3.,   0.,   3.,   0.,   0.,  21.]),\n",
       " array([ 1. ,  2.9,  4.8,  6.7,  8.6, 10.5, 12.4, 14.3, 16.2, 18.1, 20. ,\n",
       "        21.9, 23.8, 25.7, 27.6, 29.5, 31.4, 33.3, 35.2, 37.1, 39. , 40.9,\n",
       "        42.8, 44.7, 46.6, 48.5, 50.4, 52.3, 54.2, 56.1, 58. , 59.9, 61.8,\n",
       "        63.7, 65.6, 67.5, 69.4, 71.3, 73.2, 75.1, 77. , 78.9, 80.8, 82.7,\n",
       "        84.6, 86.5, 88.4, 90.3, 92.2, 94.1, 96. ]),\n",
       " <a list of 50 Patch objects>)"
      ]
     },
     "execution_count": 224,
     "metadata": {},
     "output_type": "execute_result"
    },
    {
     "data": {
      "image/png": "[encoded data removed]",
      "text/plain": [
       "<Figure size 432x288 with 1 Axes>"
      ]
     },
     "metadata": {
      "needs_background": "light"
     },
     "output_type": "display_data"
    }
   ],
   "source": [
    "hist(popularity, bins=50)"
   ]
  },
  {
   "cell_type": "code",
   "execution_count": null,
   "metadata": {},
   "outputs": [],
   "source": []
  },
  {
   "cell_type": "code",
   "execution_count": null,
   "metadata": {},
   "outputs": [],
   "source": []
  }
 ],
 "metadata": {
  "kernelspec": {
   "display_name": "Python 3",
   "language": "python",
   "name": "python3"
  },
  "language_info": {
   "codemirror_mode": {
    "name": "ipython",
    "version": 3
   },
   "file_extension": ".py",
   "mimetype": "text/x-python",
   "name": "python",
   "nbconvert_exporter": "python",
   "pygments_lexer": "ipython3",
   "version": "3.6.6"
  }
 },
 "nbformat": 4,
 "nbformat_minor": 2
}
